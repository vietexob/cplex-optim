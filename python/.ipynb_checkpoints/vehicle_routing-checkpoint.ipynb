{
 "cells": [
  {
   "cell_type": "code",
   "execution_count": 1,
   "metadata": {},
   "outputs": [],
   "source": [
    "import numpy as np\n",
    "np.random.seed(42)"
   ]
  },
  {
   "cell_type": "code",
   "execution_count": 2,
   "metadata": {},
   "outputs": [],
   "source": [
    "n = 10\n",
    "Q = 20\n",
    "N = [i for i in range(1, n+1)]\n",
    "V = [0] + N\n",
    "q = {i: np.random.randint(1, 10) for i in N}"
   ]
  },
  {
   "cell_type": "code",
   "execution_count": 18,
   "metadata": {},
   "outputs": [],
   "source": [
    "loc_x = np.random.rand(len(V)) * 200\n",
    "loc_y = np.random.rand(len(V)) * 200\n",
    "# Fix the depot at location (100, 100)\n",
    "loc_x[0] = 100\n",
    "loc_y[0] = 100"
   ]
  },
  {
   "cell_type": "code",
   "execution_count": 19,
   "metadata": {},
   "outputs": [],
   "source": [
    "import matplotlib.pyplot as plt"
   ]
  },
  {
   "cell_type": "code",
   "execution_count": 20,
   "metadata": {},
   "outputs": [
    {
     "data": {
      "image/png": "[encoded data removed]",
      "text/plain": [
       "<Figure size 432x288 with 1 Axes>"
      ]
     },
     "metadata": {},
     "output_type": "display_data"
    }
   ],
   "source": [
    "plt.scatter(loc_x[1:], loc_y[1:], c='b')\n",
    "for i in N:\n",
    "    plt.annotate('$q_%d=%d$' % (i, q[i]), (loc_x[i]+2, loc_y[i]))\n",
    "plt.plot(loc_x[0], loc_y[0], c='r', marker='s')\n",
    "plt.axis('equal');"
   ]
  },
  {
   "cell_type": "code",
   "execution_count": 6,
   "metadata": {},
   "outputs": [],
   "source": [
    "# Edges\n",
    "A = [(i, j) for i in V for j in V if i != j]\n",
    "# Cost (Euclidean distance)\n",
    "c = {(i, j): np.hypot(loc_x[i] - loc_x[j], loc_y[i] - loc_y[j]) for i, j in A}"
   ]
  },
  {
   "cell_type": "code",
   "execution_count": 7,
   "metadata": {},
   "outputs": [],
   "source": [
    "from docplex.mp.model import Model"
   ]
  },
  {
   "cell_type": "code",
   "execution_count": 8,
   "metadata": {},
   "outputs": [],
   "source": [
    "model = Model('CVRP')"
   ]
  },
  {
   "cell_type": "code",
   "execution_count": 9,
   "metadata": {},
   "outputs": [],
   "source": [
    "# Define variables\n",
    "x = model.binary_var_dict(A, name = 'x')\n",
    "u = model.continuous_var_dict(N, ub = Q, name = 'u') # lb = 0 by default"
   ]
  },
  {
   "cell_type": "code",
   "execution_count": 10,
   "metadata": {},
   "outputs": [],
   "source": [
    "# Objective function\n",
    "model.minimize(model.sum(c[i, j] * x[i, j] for i, j in A))"
   ]
  },
  {
   "cell_type": "code",
   "execution_count": 11,
   "metadata": {},
   "outputs": [],
   "source": [
    "# Constraints\n",
    "model.add_constraints(model.sum(x[i, j] for j in V if j != i) == 1 for i in N)\n",
    "model.add_constraints(model.sum(x[i, j] for i in V if i != j) == 1 for j in N)\n",
    "model.add_indicator_constraints(model.indicator_constraint(x[i, j], u[i] + q[j] == u[j]) for i, j in A if i != 0 and j != 0)\n",
    "model.add_constraints(u[i] >= q[i] for i in N)\n",
    "\n",
    "# Add a time limit on the solver\n",
    "model.parameters.timelimit = 20"
   ]
  },
  {
   "cell_type": "code",
   "execution_count": 12,
   "metadata": {},
   "outputs": [
    {
     "name": "stdout",
     "output_type": "stream",
     "text": [
      "CPXPARAM_Read_DataCheck                          1\n",
      "CPXPARAM_TimeLimit                               20\n",
      "Found incumbent of value 2222.196620 after 0.00 sec. (0.01 ticks)\n",
      "Tried aggregator 2 times.\n",
      "MIP Presolve eliminated 10 rows and 0 columns.\n",
      "MIP Presolve modified 45 coefficients.\n",
      "Aggregator did 45 substitutions.\n",
      "Reduced MIP has 65 rows, 165 columns, and 335 nonzeros.\n",
      "Reduced MIP has 110 binaries, 0 generals, 0 SOSs, and 90 indicators.\n",
      "Presolve time = 0.01 sec. (0.35 ticks)\n",
      "Probing time = 0.00 sec. (0.32 ticks)\n",
      "Tried aggregator 1 time.\n",
      "Reduced MIP has 65 rows, 165 columns, and 335 nonzeros.\n",
      "Reduced MIP has 110 binaries, 0 generals, 0 SOSs, and 90 indicators.\n",
      "Presolve time = 0.00 sec. (0.23 ticks)\n",
      "Probing time = 0.00 sec. (0.31 ticks)\n",
      "Clique table members: 65.\n",
      "MIP emphasis: balance optimality and feasibility.\n",
      "MIP search method: dynamic search.\n",
      "Parallel mode: deterministic, using up to 8 threads.\n",
      "Root relaxation solution time = 0.00 sec. (0.12 ticks)\n",
      "\n",
      "        Nodes                                         Cuts/\n",
      "   Node  Left     Objective  IInf  Best Integer    Best Bound    ItCnt     Gap\n",
      "\n",
      "*     0+    0                         2222.1966        0.0000           100.00%\n",
      "      0     0      400.8575    10     2222.1966      400.8575        6   81.96%\n",
      "      0     0      668.0261    14     2222.1966      Cuts: 25       30   69.94%\n",
      "      0     0      678.1851     9     2222.1966      Cuts: 17       39   69.48%\n",
      "      0     0      678.1851    18     2222.1966      Cuts: 23       43   69.48%\n",
      "*     0+    0                         1118.2043      678.1851            39.35%\n",
      "*     0+    0                         1092.6354      678.1851            37.93%\n",
      "*     0+    0                         1091.0683      678.1851            37.84%\n",
      "      0     2      678.1851     9     1091.0683      682.5401       43   37.44%\n",
      "Elapsed time = 0.13 sec. (6.31 ticks, tree = 0.02 MB, solutions = 4)\n",
      "\n",
      "Cover cuts applied:  55\n",
      "Implied bound cuts applied:  156\n",
      "Gomory fractional cuts applied:  2\n",
      "\n",
      "Root node processing (before b&c):\n",
      "  Real time             =    0.13 sec. (6.27 ticks)\n",
      "Parallel b&c, 8 threads:\n",
      "  Real time             =    0.29 sec. (83.27 ticks)\n",
      "  Sync time (average)   =    0.10 sec.\n",
      "  Wait time (average)   =    0.00 sec.\n",
      "                          ------------\n",
      "Total (root+branch&cut) =    0.42 sec. (89.53 ticks)\n"
     ]
    }
   ],
   "source": [
    "solution = model.solve(log_output=True)"
   ]
  },
  {
   "cell_type": "code",
   "execution_count": 13,
   "metadata": {},
   "outputs": [
    {
     "name": "stdout",
     "output_type": "stream",
     "text": [
      "solution for: CVRP\n",
      "objective: 1091.07\n",
      "x_0_1=1\n",
      "x_0_6=1\n",
      "x_0_10=1\n",
      "x_1_4=1\n",
      "x_2_0=1\n",
      "x_3_8=1\n",
      "x_4_7=1\n",
      "x_5_2=1\n",
      "x_6_3=1\n",
      "x_7_0=1\n",
      "x_8_0=1\n",
      "x_9_5=1\n",
      "x_10_9=1\n",
      "u_1=7.000\n",
      "u_2=20.000\n",
      "u_3=11.000\n",
      "u_4=12.000\n",
      "u_5=16.000\n",
      "u_6=3.000\n",
      "u_7=19.000\n",
      "u_8=19.000\n",
      "u_9=9.000\n",
      "u_10=4.000\n",
      "\n"
     ]
    }
   ],
   "source": [
    "print(solution)"
   ]
  },
  {
   "cell_type": "code",
   "execution_count": 14,
   "metadata": {},
   "outputs": [
    {
     "data": {
      "text/plain": [
       "<JobSolveStatus.OPTIMAL_SOLUTION: 2>"
      ]
     },
     "execution_count": 14,
     "metadata": {},
     "output_type": "execute_result"
    }
   ],
   "source": [
    "solution.solve_status"
   ]
  },
  {
   "cell_type": "code",
   "execution_count": 15,
   "metadata": {},
   "outputs": [],
   "source": [
    "active_edges = [a for a in A if x[a].solution_value > 0.9]"
   ]
  },
  {
   "cell_type": "code",
   "execution_count": 16,
   "metadata": {},
   "outputs": [
    {
     "data": {
      "text/plain": [
       "[(0, 1),\n",
       " (0, 6),\n",
       " (0, 10),\n",
       " (1, 4),\n",
       " (2, 0),\n",
       " (3, 8),\n",
       " (4, 7),\n",
       " (5, 2),\n",
       " (6, 3),\n",
       " (7, 0),\n",
       " (8, 0),\n",
       " (9, 5),\n",
       " (10, 9)]"
      ]
     },
     "execution_count": 16,
     "metadata": {},
     "output_type": "execute_result"
    }
   ],
   "source": [
    "active_edges"
   ]
  },
  {
   "cell_type": "code",
   "execution_count": 17,
   "metadata": {},
   "outputs": [
    {
     "data": {
      "image/png": "[encoded data removed]",
      "text/plain": [
       "<Figure size 432x288 with 1 Axes>"
      ]
     },
     "metadata": {},
     "output_type": "display_data"
    }
   ],
   "source": [
    "plt.scatter(loc_x[1:], loc_y[1:], c='b')\n",
    "for i in N:\n",
    "    plt.annotate('$q_%d=%d$' % (i, q[i]), (loc_x[i]+2, loc_y[i]))\n",
    "for i, j in active_edges:\n",
    "    plt.plot([loc_x[i], loc_x[j]], [loc_y[i], loc_y[j]], c='g', alpha=0.3)\n",
    "plt.plot(loc_x[0], loc_y[0], c='r', marker='s')\n",
    "plt.axis('equal');"
   ]
  },
  {
   "cell_type": "code",
   "execution_count": null,
   "metadata": {},
   "outputs": [],
   "source": []
  }
 ],
 "metadata": {
  "kernelspec": {
   "display_name": "Python 3",
   "language": "python",
   "name": "python3"
  },
  "language_info": {
   "codemirror_mode": {
    "name": "ipython",
    "version": 3
   },
   "file_extension": ".py",
   "mimetype": "text/x-python",
   "name": "python",
   "nbconvert_exporter": "python",
   "pygments_lexer": "ipython3",
   "version": "3.6.2"
  }
 },
 "nbformat": 4,
 "nbformat_minor": 2
}
