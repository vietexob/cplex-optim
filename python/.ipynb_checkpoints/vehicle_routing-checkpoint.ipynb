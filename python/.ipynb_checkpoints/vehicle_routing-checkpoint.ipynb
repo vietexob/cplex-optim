{
 "cells": [
  {
   "cell_type": "code",
   "execution_count": 1,
   "metadata": {},
   "outputs": [],
   "source": [
    "import numpy as np\n",
    "np.random.seed(42)"
   ]
  },
  {
   "cell_type": "code",
   "execution_count": 2,
   "metadata": {},
   "outputs": [],
   "source": [
    "n = 10\n",
    "Q = 20\n",
    "N = [i for i in range(1, n+1)]\n",
    "V = [0] + N\n",
    "q = {i: np.random.randint(1, 10) for i in N}"
   ]
  },
  {
   "cell_type": "code",
   "execution_count": 3,
   "metadata": {},
   "outputs": [],
   "source": [
    "loc_x = np.random.rand(len(V)) * 200\n",
    "loc_y = np.random.rand(len(V)) * 200\n",
    "# Fix the depot at location (100, 100)\n",
    "loc_x[0] = 100\n",
    "loc_y[0] = 100"
   ]
  },
  {
   "cell_type": "code",
   "execution_count": 4,
   "metadata": {},
   "outputs": [],
   "source": [
    "import matplotlib.pyplot as plt"
   ]
  },
  {
   "cell_type": "code",
   "execution_count": 5,
   "metadata": {},
   "outputs": [
    {
     "data": {
      "image/png": "[encoded data removed]",
      "text/plain": [
       "<Figure size 432x288 with 1 Axes>"
      ]
     },
     "metadata": {},
     "output_type": "display_data"
    }
   ],
   "source": [
    "plt.scatter(loc_x[1:], loc_y[1:], c='b')\n",
    "for i in N:\n",
    "    plt.annotate('$q_%d=%d$' % (i, q[i]), (loc_x[i]+2, loc_y[i]))\n",
    "plt.plot(loc_x[0], loc_y[0], c='r', marker='s')\n",
    "plt.axis('equal');"
   ]
  },
  {
   "cell_type": "code",
   "execution_count": 6,
   "metadata": {},
   "outputs": [],
   "source": [
    "# Edges\n",
    "A = [(i, j) for i in V for j in V if i != j]\n",
    "# Cost (Euclidean distance)\n",
    "c = {(i, j): np.hypot(loc_x[i] - loc_x[j], loc_y[i] - loc_y[j]) for i, j in A}"
   ]
  },
  {
   "cell_type": "code",
   "execution_count": 7,
   "metadata": {},
   "outputs": [],
   "source": [
    "from docplex.mp.model import Model"
   ]
  },
  {
   "cell_type": "code",
   "execution_count": 8,
   "metadata": {},
   "outputs": [],
   "source": [
    "model = Model('CVRP')"
   ]
  },
  {
   "cell_type": "code",
   "execution_count": 9,
   "metadata": {},
   "outputs": [],
   "source": [
    "# Define variables\n",
    "x = model.binary_var_dict(A, name = 'x')\n",
    "u = model.continuous_var_dict(N, ub = Q, name = 'u') # lb = 0 by default"
   ]
  },
  {
   "cell_type": "code",
   "execution_count": 10,
   "metadata": {},
   "outputs": [],
   "source": [
    "# Objective function\n",
    "model.minimize(model.sum(c[i, j] * x[i, j] for i, j in A))"
   ]
  },
  {
   "cell_type": "code",
   "execution_count": 11,
   "metadata": {},
   "outputs": [],
   "source": [
    "# Constraints\n",
    "model.add_constraints(model.sum(x[i, j] for j in V if j != i) == 1 for i in N)\n",
    "model.add_constraints(model.sum(x[i, j] for i in V if i != j) == 1 for j in N)\n",
    "model.add_indicator_constraints(model.indicator_constraint(x[i, j], u[i] + q[j] == u[j]) for i, j in A if i != 0 and j != 0)\n",
    "model.add_constraints(u[i] >= q[i] for i in N)\n",
    "\n",
    "# Add a time limit on the solver\n",
    "model.parameters.timelimit = 20"
   ]
  },
  {
   "cell_type": "code",
   "execution_count": 12,
   "metadata": {},
   "outputs": [
    {
     "name": "stdout",
     "output_type": "stream",
     "text": [
      "CPXPARAM_Read_DataCheck                          1\n",
      "CPXPARAM_TimeLimit                               20\n",
      "Found incumbent of value 1903.072828 after 0.00 sec. (0.01 ticks)\n",
      "Tried aggregator 2 times.\n",
      "MIP Presolve eliminated 10 rows and 0 columns.\n",
      "MIP Presolve modified 45 coefficients.\n",
      "Aggregator did 45 substitutions.\n",
      "Reduced MIP has 65 rows, 165 columns, and 335 nonzeros.\n",
      "Reduced MIP has 110 binaries, 0 generals, 0 SOSs, and 90 indicators.\n",
      "Presolve time = 0.01 sec. (0.35 ticks)\n",
      "Probing time = 0.00 sec. (0.32 ticks)\n",
      "Tried aggregator 1 time.\n",
      "Reduced MIP has 65 rows, 165 columns, and 335 nonzeros.\n",
      "Reduced MIP has 110 binaries, 0 generals, 0 SOSs, and 90 indicators.\n",
      "Presolve time = 0.00 sec. (0.23 ticks)\n",
      "Probing time = 0.00 sec. (0.31 ticks)\n",
      "Clique table members: 65.\n",
      "MIP emphasis: balance optimality and feasibility.\n",
      "MIP search method: dynamic search.\n",
      "Parallel mode: deterministic, using up to 8 threads.\n",
      "Root relaxation solution time = 0.00 sec. (0.11 ticks)\n",
      "\n",
      "        Nodes                                         Cuts/\n",
      "   Node  Left     Objective  IInf  Best Integer    Best Bound    ItCnt     Gap\n",
      "\n",
      "*     0+    0                         1903.0728        0.0000           100.00%\n",
      "      0     0      400.8575    10     1903.0728      400.8575        4   78.94%\n",
      "      0     0      669.3451    18     1903.0728      Cuts: 25       32   64.83%\n",
      "      0     0      682.5401     6     1903.0728       Cuts: 9       37   64.13%\n",
      "      0     0      682.5401    20     1903.0728      Cuts: 22       39   64.13%\n",
      "*     0+    0                         1152.6585      682.5401            40.79%\n",
      "*     0+    0                          936.3702      682.5401            27.11%\n",
      "      0     2      682.5401    10      936.3702      690.7902       39   26.23%\n",
      "Elapsed time = 0.22 sec. (5.12 ticks, tree = 0.02 MB, solutions = 3)\n",
      "*   161    20      integral     0      933.1949      690.7902      459   25.98%\n",
      "\n",
      "Clique cuts applied:  1\n",
      "Cover cuts applied:  19\n",
      "Implied bound cuts applied:  132\n",
      "Zero-half cuts applied:  1\n",
      "Gomory fractional cuts applied:  1\n",
      "\n",
      "Root node processing (before b&c):\n",
      "  Real time             =    0.19 sec. (5.08 ticks)\n",
      "Parallel b&c, 8 threads:\n",
      "  Real time             =    0.32 sec. (19.53 ticks)\n",
      "  Sync time (average)   =    0.23 sec.\n",
      "  Wait time (average)   =    0.00 sec.\n",
      "                          ------------\n",
      "Total (root+branch&cut) =    0.51 sec. (24.61 ticks)\n"
     ]
    }
   ],
   "source": [
    "solution = model.solve(log_output=True)"
   ]
  },
  {
   "cell_type": "code",
   "execution_count": 18,
   "metadata": {},
   "outputs": [
    {
     "name": "stdout",
     "output_type": "stream",
     "text": [
      "933.1949300837359\n"
     ]
    }
   ],
   "source": [
    "print(solution.objective_value)"
   ]
  },
  {
   "cell_type": "code",
   "execution_count": 31,
   "metadata": {},
   "outputs": [
    {
     "name": "stdout",
     "output_type": "stream",
     "text": [
      "True\n"
     ]
    }
   ],
   "source": [
    "test = str(solution.solve_status)\n",
    "print(test == 'JobSolveStatus.OPTIMAL_SOLUTION')"
   ]
  },
  {
   "cell_type": "code",
   "execution_count": 33,
   "metadata": {},
   "outputs": [
    {
     "name": "stdout",
     "output_type": "stream",
     "text": [
      "[(0, 7), (0, 8), (0, 10), (1, 0), (2, 0), (3, 6), (4, 1), (5, 2), (6, 0), (7, 4), (8, 3), (9, 5), (10, 9)]\n"
     ]
    }
   ],
   "source": [
    "active_edges = [a for a in A if x[a].solution_value > 0.9]\n",
    "print(active_edges)"
   ]
  },
  {
   "cell_type": "code",
   "execution_count": 39,
   "metadata": {},
   "outputs": [
    {
     "name": "stdout",
     "output_type": "stream",
     "text": [
      "[(0, 7), (7, 4), (4, 1), (1, 0)]\n",
      "[0, 7, 4, 1, 0]\n",
      "[(0, 8), (8, 3), (3, 6), (6, 0)]\n",
      "[0, 8, 3, 6, 0]\n",
      "[(0, 10), (10, 9), (9, 5), (5, 2), (2, 0)]\n",
      "[0, 10, 9, 5, 2, 0]\n"
     ]
    }
   ],
   "source": [
    "start_edges = [e for e in active_edges if e[0] == 0]\n",
    "list_routes = []\n",
    "for start in start_edges:\n",
    "    route = []\n",
    "    route.append(start)\n",
    "    while True:\n",
    "        last_edge = route[-1]\n",
    "        next_edge = None\n",
    "        for edge in active_edges:\n",
    "            if edge[0] == last_edge[1]:\n",
    "                next_edge = edge\n",
    "                break\n",
    "        if next_edge is not None:\n",
    "            route.append(next_edge)\n",
    "            if next_edge[1] == 0:\n",
    "                list_routes.append(route)\n",
    "                break\n",
    "        else:\n",
    "            break\n",
    "for route in list_routes:\n",
    "    list_nodes = []\n",
    "    for edge in route:\n",
    "        list_nodes.append(edge[0])\n",
    "    list_nodes.append(0)\n",
    "    print(list_nodes)"
   ]
  },
  {
   "cell_type": "code",
   "execution_count": 17,
   "metadata": {},
   "outputs": [
    {
     "data": {
      "image/png": "[encoded data removed]",
      "text/plain": [
       "<Figure size 432x288 with 1 Axes>"
      ]
     },
     "metadata": {},
     "output_type": "display_data"
    }
   ],
   "source": [
    "plt.scatter(loc_x[1:], loc_y[1:], c='b')\n",
    "for i in N:\n",
    "    plt.annotate('$q_%d=%d$' % (i, q[i]), (loc_x[i]+2, loc_y[i]))\n",
    "for i, j in active_edges:\n",
    "    plt.plot([loc_x[i], loc_x[j]], [loc_y[i], loc_y[j]], c='g', alpha=0.3)\n",
    "plt.plot(loc_x[0], loc_y[0], c='r', marker='s')\n",
    "plt.axis('equal');"
   ]
  },
  {
   "cell_type": "code",
   "execution_count": null,
   "metadata": {},
   "outputs": [],
   "source": []
  }
 ],
 "metadata": {
  "kernelspec": {
   "display_name": "Python 3",
   "language": "python",
   "name": "python3"
  },
  "language_info": {
   "codemirror_mode": {
    "name": "ipython",
    "version": 3
   },
   "file_extension": ".py",
   "mimetype": "text/x-python",
   "name": "python",
   "nbconvert_exporter": "python",
   "pygments_lexer": "ipython3",
   "version": "3.6.2"
  }
 },
 "nbformat": 4,
 "nbformat_minor": 2
}
